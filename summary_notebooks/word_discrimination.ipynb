{
 "cells": [
  {
   "cell_type": "code",
   "execution_count": null,
   "metadata": {},
   "outputs": [],
   "source": [
    "%load_ext autoreload\n",
    "%autoreload 2"
   ]
  },
  {
   "cell_type": "code",
   "execution_count": null,
   "metadata": {},
   "outputs": [],
   "source": [
    "from collections import defaultdict, Counter\n",
    "\n",
    "import pandas as pd\n",
    "import matplotlib.pyplot as plt\n",
    "import numpy as np\n",
    "import seaborn as sns\n",
    "from pathlib import Path\n",
    "import re\n",
    "import torch\n",
    "from typing import Union, Callable\n",
    "from tqdm.auto import tqdm\n",
    "\n",
    "from src.utils import concat_csv_with_indices"
   ]
  },
  {
   "cell_type": "code",
   "execution_count": null,
   "metadata": {},
   "outputs": [],
   "source": [
    "sns.set_context(\"talk\", font_scale=1.5)"
   ]
  },
  {
   "cell_type": "code",
   "execution_count": null,
   "metadata": {},
   "outputs": [],
   "source": [
    "state_space_spec_path = \"outputs/state_space_specs/librispeech-train-clean-100/w2v2_8/state_space_specs.pkl\"\n",
    "\n"
   ]
  },
  {
   "cell_type": "code",
   "execution_count": null,
   "metadata": {},
   "outputs": [],
   "source": [
    "predictions_df = concat_csv_with_indices(\"outputs/word_recognition/librispeech-train-clean-100/**/predictions-frame_*.csv\",\n",
    "                        [re.compile(r\"frame_(\\d+)\\.csv\"),\n",
    "                         lambda p: p.parents[2].name,\n",
    "                         lambda p: p.parents[3].name, lambda p: p.parents[4].name,\n",
    "                         lambda p: p.parents[5].name],\n",
    "                        [\"frame_idx\",\n",
    "                         \"equivalence\", \"model\", \"base_model\", \"dataset\"\n",
    "                          ]).reset_index()\n",
    "\n",
    "predictions_df[\"frame_idx\"] = predictions_df.frame_idx.astype(int)\n",
    "\n",
    "predictions_df[\"trace\"] = predictions_df.base_model + \"/\" + predictions_df.model + \"/\" + predictions_df.equivalence"
   ]
  },
  {
   "cell_type": "code",
   "execution_count": null,
   "metadata": {},
   "outputs": [],
   "source": [
    "plot_traces = {\n",
    "    \"Word\": \"w2v2_8/rnn_32-hinge-mAP4/word_broad_10frames\",\n",
    "    \"Random\": \"w2v2_8/randomrnn_32/random\",\n",
    "    \"Phoneme\": \"w2v2_8/rnn_8-weightdecay0.01/phoneme_10frames\",\n",
    "}\n",
    "plot_max_num_frames = 9\n",
    "predictions_df = predictions_df[predictions_df.trace.isin(plot_traces.values())]\n",
    "predictions_df[\"Trace\"] = predictions_df.trace.map({v: k for k, v in plot_traces.items()})\n",
    "predictions_df[\"# phonemes seen\"] = predictions_df.frame_idx + 1"
   ]
  },
  {
   "cell_type": "code",
   "execution_count": null,
   "metadata": {},
   "outputs": [],
   "source": [
    "# estimate chance performance for word recognition at each dataset + frame\n",
    "chance_performance = {}\n",
    "for dataset, dataset_results in predictions_df.groupby(\"dataset\"):\n",
    "    # take any trace; they're all the same\n",
    "    chance_df = next(iter(dataset_results.groupby(\"trace\")))[1]\n",
    "    # # words should all be balanced in this evaluaton, so we can take the mean of relative word frequency\n",
    "    # words may not be balanced; take the max-probability word assuming random guessing\n",
    "    chance_performance[dataset] = chance_df.groupby(\"frame_idx\").apply(lambda x: x.label.value_counts(normalize=True).max()).rename(\"chance_performance\")\n",
    "chance_performance = pd.concat(chance_performance, names=[\"dataset\"])\n",
    "chance_performance"
   ]
  },
  {
   "cell_type": "code",
   "execution_count": null,
   "metadata": {},
   "outputs": [],
   "source": [
    "acc_df = predictions_df.loc[(predictions_df.dataset == plot_dataset)] \\\n",
    "    .groupby([\"Trace\", \"# phonemes seen\"]).correct.mean().reset_index()\n",
    "hue_order = acc_df.groupby(\"Trace\").correct.mean().sort_values(ascending=False).index\n",
    "\n",
    "acc_df = acc_df[acc_df[\"# phonemes seen\"] <= plot_max_num_frames]\n",
    "\n",
    "f, ax = plt.subplots(figsize=(10, 6))\n",
    "ax = sns.lineplot(data=acc_df,\n",
    "                  x=\"# phonemes seen\", y=\"correct\", hue=\"Trace\", hue_order=hue_order,\n",
    "                  ax=ax)\n",
    "ax.set_xticks(range(1, plot_max_num_frames + 1))\n",
    "\n",
    "ax.legend(loc=\"upper left\", bbox_to_anchor=(1, 1))\n",
    "ax.set_xlabel(\"# phonemes seen\")\n",
    "ax.set_ylabel(\"Accuracy\")\n",
    "\n",
    "# draw chance performance as a horizontal line over each x value\n",
    "for frame, frame_chance_perf in chance_performance.loc[plot_dataset].items():\n",
    "    if frame + 2 > plot_max_num_frames:\n",
    "        continue\n",
    "    ax.plot([frame + 1, frame + 2], [frame_chance_perf, frame_chance_perf],\n",
    "            color=\"gray\", linestyle=\"--\")"
   ]
  },
  {
   "cell_type": "code",
   "execution_count": null,
   "metadata": {},
   "outputs": [],
   "source": [
    "acc_df.groupby([\"Trace\"]).correct.max()"
   ]
  },
  {
   "cell_type": "markdown",
   "metadata": {},
   "source": [
    "## Frequency effects in recognition"
   ]
  },
  {
   "cell_type": "code",
   "execution_count": null,
   "metadata": {},
   "outputs": [],
   "source": [
    "word_freq_df = pd.read_csv(\"data/SUBTLEXus74286wordstextversion.txt\", sep=\"\\t\", index_col=0)"
   ]
  },
  {
   "cell_type": "code",
   "execution_count": null,
   "metadata": {},
   "outputs": [],
   "source": [
    "num_frequency_bins = 6\n",
    "word_freq_df[\"log_frequency_bin\"] = pd.qcut(word_freq_df.Lg10WF, num_frequency_bins, labels=list(range(num_frequency_bins - 1)), duplicates=\"drop\").astype(int)"
   ]
  },
  {
   "cell_type": "code",
   "execution_count": null,
   "metadata": {},
   "outputs": [],
   "source": [
    "predictions_df_meta = pd.merge(predictions_df, word_freq_df, left_on=\"label\", right_index=True)"
   ]
  },
  {
   "cell_type": "code",
   "execution_count": null,
   "metadata": {},
   "outputs": [],
   "source": [
    "ax = sns.lineplot(data=predictions_df_meta[(predictions_df_meta.Trace == \"Word\") &\n",
    "                                           (predictions_df_meta[\"# phonemes seen\"] <= plot_max_num_frames)],\n",
    "                  x=\"# phonemes seen\", y=\"correct\", hue=\"log_frequency_bin\", palette=\"viridis\")\n",
    "ax.set_xticks(range(1, plot_max_num_frames + 1))\n",
    "ax.legend(title=\"Word frequency bin\", loc=\"upper left\", bbox_to_anchor=(1, 1))"
   ]
  },
  {
   "cell_type": "markdown",
   "metadata": {},
   "source": [
    "## Accuracy distribution between words"
   ]
  },
  {
   "cell_type": "code",
   "execution_count": null,
   "metadata": {},
   "outputs": [],
   "source": [
    "accuracy_distribution_df = predictions_df_meta \\\n",
    "    .groupby([\"Trace\", \"label\", \"label_instance_idx\", \"Lg10WF\", \"log_frequency_bin\"]).correct.max() \\\n",
    "    .groupby([\"Trace\", \"label\", \"Lg10WF\", \"log_frequency_bin\"]).mean()\n",
    "accuracy_distribution_df"
   ]
  },
  {
   "cell_type": "code",
   "execution_count": null,
   "metadata": {},
   "outputs": [],
   "source": [
    "col_order = accuracy_distribution_df.groupby(\"Trace\").mean().sort_values(ascending=False).index\n",
    "sns.displot(data=accuracy_distribution_df.reset_index(), \n",
    "            x=\"correct\", col=\"Trace\", col_order=col_order, col_wrap=3,\n",
    "            facet_kws=dict(sharex=False), height=4, aspect=1.5)"
   ]
  },
  {
   "cell_type": "code",
   "execution_count": null,
   "metadata": {},
   "outputs": [],
   "source": [
    "g = sns.relplot(data=accuracy_distribution_df.reset_index(),\n",
    "            x=\"log_frequency_bin\", y=\"correct\",\n",
    "            hue=\"Trace\", hue_order=accuracy_distribution_df.groupby(\"Trace\").mean().sort_values(ascending=False).index,\n",
    "            kind=\"line\", aspect=1.5)\n",
    "g.axes.flat[0].set_xlabel(\"Word frequency bin\")"
   ]
  }
 ],
 "metadata": {
  "kernelspec": {
   "display_name": "Python 3",
   "language": "python",
   "name": "python3"
  },
  "language_info": {
   "codemirror_mode": {
    "name": "ipython",
    "version": 3
   },
   "file_extension": ".py",
   "mimetype": "text/x-python",
   "name": "python",
   "nbconvert_exporter": "python",
   "pygments_lexer": "ipython3",
   "version": "3.10.13"
  }
 },
 "nbformat": 4,
 "nbformat_minor": 2
}
